{
 "cells": [
  {
   "cell_type": "markdown",
   "metadata": {},
   "source": [
    "# Projeto 1 - Ciência dos Dados"
   ]
  },
  {
   "cell_type": "markdown",
   "metadata": {},
   "source": [
    "Nome: Alfredo Villela\n",
    "7/Nome: Pedro Peretto\n"
   ]
  },
  {
   "cell_type": "markdown",
   "metadata": {},
   "source": [
    "Atenção: Serão permitidos grupos de três pessoas, mas com uma rubrica mais exigente. Grupos deste tamanho precisarão fazer um questionário de avaliação de trabalho em equipe"
   ]
  },
  {
   "cell_type": "markdown",
   "metadata": {},
   "source": [
    "___\n",
    "Carregando algumas bibliotecas:"
   ]
  },
  {
   "cell_type": "code",
   "execution_count": 87,
   "metadata": {},
   "outputs": [],
   "source": [
    "%matplotlib inline\n",
    "import pandas as pd\n",
    "import matplotlib.pyplot as plt\n",
    "import numpy as np\n",
    "import os"
   ]
  },
  {
   "cell_type": "code",
   "execution_count": 88,
   "metadata": {
    "scrolled": false
   },
   "outputs": [
    {
     "name": "stdout",
     "output_type": "stream",
     "text": [
      "Esperamos trabalhar no diretório\n",
      "C:\\Users\\pedro\\OneDrive\\Documentos\\cdados\\Projeto1-\n"
     ]
    }
   ],
   "source": [
    "print('Esperamos trabalhar no diretório')\n",
    "print(os.getcwd())"
   ]
  },
  {
   "cell_type": "markdown",
   "metadata": {},
   "source": [
    "Carregando a base de dados com os tweets classificados como relevantes e não relevantes:"
   ]
  },
  {
   "cell_type": "code",
   "execution_count": 89,
   "metadata": {},
   "outputs": [],
   "source": [
    "filename = 'Ruffles.xlsx'"
   ]
  },
  {
   "cell_type": "code",
   "execution_count": 90,
   "metadata": {},
   "outputs": [
    {
     "data": {
      "text/html": [
       "<div>\n",
       "<style scoped>\n",
       "    .dataframe tbody tr th:only-of-type {\n",
       "        vertical-align: middle;\n",
       "    }\n",
       "\n",
       "    .dataframe tbody tr th {\n",
       "        vertical-align: top;\n",
       "    }\n",
       "\n",
       "    .dataframe thead th {\n",
       "        text-align: right;\n",
       "    }\n",
       "</style>\n",
       "<table border=\"1\" class=\"dataframe\">\n",
       "  <thead>\n",
       "    <tr style=\"text-align: right;\">\n",
       "      <th></th>\n",
       "      <th>Treinamento</th>\n",
       "      <th>Classificação</th>\n",
       "      <th>Unnamed: 2</th>\n",
       "      <th>Relevante</th>\n",
       "      <th>Irrelevante</th>\n",
       "    </tr>\n",
       "  </thead>\n",
       "  <tbody>\n",
       "    <tr>\n",
       "      <th>0</th>\n",
       "      <td>@natialiauai amiga sinto muito, mas sou doida ...</td>\n",
       "      <td>1</td>\n",
       "      <td>NaN</td>\n",
       "      <td>1.0</td>\n",
       "      <td>0.0</td>\n",
       "    </tr>\n",
       "    <tr>\n",
       "      <th>1</th>\n",
       "      <td>@dannypeppers_ amg eu te perdoo dessa vez pq e...</td>\n",
       "      <td>1</td>\n",
       "      <td>NaN</td>\n",
       "      <td>NaN</td>\n",
       "      <td>NaN</td>\n",
       "    </tr>\n",
       "    <tr>\n",
       "      <th>2</th>\n",
       "      <td>@disicks mas ruffles e coca tambem é veg amiga...</td>\n",
       "      <td>1</td>\n",
       "      <td>NaN</td>\n",
       "      <td>NaN</td>\n",
       "      <td>NaN</td>\n",
       "    </tr>\n",
       "    <tr>\n",
       "      <th>3</th>\n",
       "      <td>n sei o q dá na cabeça da pessoa em trocar pri...</td>\n",
       "      <td>1</td>\n",
       "      <td>NaN</td>\n",
       "      <td>NaN</td>\n",
       "      <td>NaN</td>\n",
       "    </tr>\n",
       "    <tr>\n",
       "      <th>4</th>\n",
       "      <td>@falaanarosa ruffles cebola e salsa e chocolate</td>\n",
       "      <td>0</td>\n",
       "      <td>NaN</td>\n",
       "      <td>NaN</td>\n",
       "      <td>NaN</td>\n",
       "    </tr>\n",
       "  </tbody>\n",
       "</table>\n",
       "</div>"
      ],
      "text/plain": [
       "                                         Treinamento  Classificação  \\\n",
       "0  @natialiauai amiga sinto muito, mas sou doida ...              1   \n",
       "1  @dannypeppers_ amg eu te perdoo dessa vez pq e...              1   \n",
       "2  @disicks mas ruffles e coca tambem é veg amiga...              1   \n",
       "3  n sei o q dá na cabeça da pessoa em trocar pri...              1   \n",
       "4    @falaanarosa ruffles cebola e salsa e chocolate              0   \n",
       "\n",
       "   Unnamed: 2  Relevante  Irrelevante   \n",
       "0         NaN        1.0           0.0  \n",
       "1         NaN        NaN           NaN  \n",
       "2         NaN        NaN           NaN  \n",
       "3         NaN        NaN           NaN  \n",
       "4         NaN        NaN           NaN  "
      ]
     },
     "execution_count": 90,
     "metadata": {},
     "output_type": "execute_result"
    }
   ],
   "source": [
    "train = pd.read_excel(filename)\n",
    "train.head(5)"
   ]
  },
  {
   "cell_type": "code",
   "execution_count": 91,
   "metadata": {},
   "outputs": [
    {
     "data": {
      "text/html": [
       "<div>\n",
       "<style scoped>\n",
       "    .dataframe tbody tr th:only-of-type {\n",
       "        vertical-align: middle;\n",
       "    }\n",
       "\n",
       "    .dataframe tbody tr th {\n",
       "        vertical-align: top;\n",
       "    }\n",
       "\n",
       "    .dataframe thead th {\n",
       "        text-align: right;\n",
       "    }\n",
       "</style>\n",
       "<table border=\"1\" class=\"dataframe\">\n",
       "  <thead>\n",
       "    <tr style=\"text-align: right;\">\n",
       "      <th></th>\n",
       "      <th>Teste</th>\n",
       "      <th>Classificação</th>\n",
       "    </tr>\n",
       "  </thead>\n",
       "  <tbody>\n",
       "    <tr>\n",
       "      <th>0</th>\n",
       "      <td>queria deixar minha raiva aqui com a fraude ch...</td>\n",
       "      <td>1.0</td>\n",
       "    </tr>\n",
       "    <tr>\n",
       "      <th>1</th>\n",
       "      <td>meu namorado deveria ver isso e mandar uma ruf...</td>\n",
       "      <td>1.0</td>\n",
       "    </tr>\n",
       "    <tr>\n",
       "      <th>2</th>\n",
       "      <td>@katrynnebarross o guaraná até vai agora o ruf...</td>\n",
       "      <td>1.0</td>\n",
       "    </tr>\n",
       "    <tr>\n",
       "      <th>3</th>\n",
       "      <td>@d0y0ungflower eu não gosto de ruffles pra mim...</td>\n",
       "      <td>1.0</td>\n",
       "    </tr>\n",
       "    <tr>\n",
       "      <th>4</th>\n",
       "      <td>comer uma ruffles, deu vontade</td>\n",
       "      <td>1.0</td>\n",
       "    </tr>\n",
       "  </tbody>\n",
       "</table>\n",
       "</div>"
      ],
      "text/plain": [
       "                                               Teste  Classificação\n",
       "0  queria deixar minha raiva aqui com a fraude ch...            1.0\n",
       "1  meu namorado deveria ver isso e mandar uma ruf...            1.0\n",
       "2  @katrynnebarross o guaraná até vai agora o ruf...            1.0\n",
       "3  @d0y0ungflower eu não gosto de ruffles pra mim...            1.0\n",
       "4                     comer uma ruffles, deu vontade            1.0"
      ]
     },
     "execution_count": 91,
     "metadata": {},
     "output_type": "execute_result"
    }
   ],
   "source": [
    "test = pd.read_excel(filename, sheet_name = 'Teste')\n",
    "test.head(5)"
   ]
  },
  {
   "cell_type": "markdown",
   "metadata": {},
   "source": [
    "___\n",
    "## Classificador automático de sentimento\n"
   ]
  },
  {
   "cell_type": "markdown",
   "metadata": {},
   "source": [
    "Faça aqui uma descrição do seu produto e o que considerou como relevante ou não relevante na classificação dos tweets.\n",
    "\n",
    "Descrição: É um salgadinho de batata chips\n",
    "Classificação: como relevantes consideramos tweets que davam opiniões sobre o produto e sobre seus sabores. Como irrelevantes consideramos aqueles que não tinham relação com a qualidade do produto.\n",
    "\n",
    "ESCREVA AQUI..."
   ]
  },
  {
   "cell_type": "markdown",
   "metadata": {},
   "source": [
    "___\n",
    "### Montando um Classificador Naive-Bayes\n",
    "\n",
    "Considerando apenas as mensagens da planilha Treinamento, ensine  seu classificador."
   ]
  },
  {
   "cell_type": "code",
   "execution_count": 92,
   "metadata": {},
   "outputs": [
    {
     "data": {
      "text/html": [
       "<div>\n",
       "<style scoped>\n",
       "    .dataframe tbody tr th:only-of-type {\n",
       "        vertical-align: middle;\n",
       "    }\n",
       "\n",
       "    .dataframe tbody tr th {\n",
       "        vertical-align: top;\n",
       "    }\n",
       "\n",
       "    .dataframe thead th {\n",
       "        text-align: right;\n",
       "    }\n",
       "</style>\n",
       "<table border=\"1\" class=\"dataframe\">\n",
       "  <thead>\n",
       "    <tr style=\"text-align: right;\">\n",
       "      <th></th>\n",
       "      <th>Treinamento</th>\n",
       "      <th>Classificação</th>\n",
       "    </tr>\n",
       "  </thead>\n",
       "  <tbody>\n",
       "    <tr>\n",
       "      <th>280</th>\n",
       "      <td>petição para mudar o nome das ruffles presunto...</td>\n",
       "      <td>0</td>\n",
       "    </tr>\n",
       "    <tr>\n",
       "      <th>281</th>\n",
       "      <td>@marianagatzk @ruffles @pringles simmmmmm... c...</td>\n",
       "      <td>0</td>\n",
       "    </tr>\n",
       "    <tr>\n",
       "      <th>282</th>\n",
       "      <td>batata ruffles original é melhor que todos os ...</td>\n",
       "      <td>1</td>\n",
       "    </tr>\n",
       "    <tr>\n",
       "      <th>283</th>\n",
       "      <td>@ruffles_oficial @elmachips fui fazer o cadast...</td>\n",
       "      <td>0</td>\n",
       "    </tr>\n",
       "    <tr>\n",
       "      <th>284</th>\n",
       "      <td>uma batata ruffles pequena 7 conto? gente pelo...</td>\n",
       "      <td>0</td>\n",
       "    </tr>\n",
       "    <tr>\n",
       "      <th>285</th>\n",
       "      <td>só que com ruffles</td>\n",
       "      <td>0</td>\n",
       "    </tr>\n",
       "    <tr>\n",
       "      <th>286</th>\n",
       "      <td>ruffles de churrasco eh a melhor que tem</td>\n",
       "      <td>1</td>\n",
       "    </tr>\n",
       "    <tr>\n",
       "      <th>287</th>\n",
       "      <td>@jeeehcarolinee vamos ficar na torcida pra ele...</td>\n",
       "      <td>1</td>\n",
       "    </tr>\n",
       "    <tr>\n",
       "      <th>288</th>\n",
       "      <td>@pepeubigboy @katrynnebarross ruffles é uma da...</td>\n",
       "      <td>1</td>\n",
       "    </tr>\n",
       "    <tr>\n",
       "      <th>289</th>\n",
       "      <td>@_gvmmos sabe o q e um pontinho amarelo no mar...</td>\n",
       "      <td>1</td>\n",
       "    </tr>\n",
       "    <tr>\n",
       "      <th>290</th>\n",
       "      <td>depois de semanas de procura achei o sabor de ...</td>\n",
       "      <td>1</td>\n",
       "    </tr>\n",
       "    <tr>\n",
       "      <th>291</th>\n",
       "      <td>meu café da manhã sendo ruffles e coca</td>\n",
       "      <td>1</td>\n",
       "    </tr>\n",
       "    <tr>\n",
       "      <th>292</th>\n",
       "      <td>batata frita sensações é uma bosta, muito frac...</td>\n",
       "      <td>1</td>\n",
       "    </tr>\n",
       "    <tr>\n",
       "      <th>293</th>\n",
       "      <td>@fleableh traz ruffles e coca pra mim amor!</td>\n",
       "      <td>0</td>\n",
       "    </tr>\n",
       "    <tr>\n",
       "      <th>294</th>\n",
       "      <td>um menino acabou de fazer uma compra aqui cmg ...</td>\n",
       "      <td>0</td>\n",
       "    </tr>\n",
       "    <tr>\n",
       "      <th>295</th>\n",
       "      <td>@bichinhosfb quando @juberpdias compra ruffles...</td>\n",
       "      <td>0</td>\n",
       "    </tr>\n",
       "    <tr>\n",
       "      <th>296</th>\n",
       "      <td>essa batata ruffles só vem vento</td>\n",
       "      <td>1</td>\n",
       "    </tr>\n",
       "    <tr>\n",
       "      <th>297</th>\n",
       "      <td>relembrando com meu cunhado os melhores sabore...</td>\n",
       "      <td>1</td>\n",
       "    </tr>\n",
       "    <tr>\n",
       "      <th>298</th>\n",
       "      <td>comi ruffles e biss assistindo a última tempor...</td>\n",
       "      <td>0</td>\n",
       "    </tr>\n",
       "    <tr>\n",
       "      <th>299</th>\n",
       "      <td>mó vontade de comer ruffles</td>\n",
       "      <td>1</td>\n",
       "    </tr>\n",
       "  </tbody>\n",
       "</table>\n",
       "</div>"
      ],
      "text/plain": [
       "                                           Treinamento  Classificação\n",
       "280  petição para mudar o nome das ruffles presunto...              0\n",
       "281  @marianagatzk @ruffles @pringles simmmmmm... c...              0\n",
       "282  batata ruffles original é melhor que todos os ...              1\n",
       "283  @ruffles_oficial @elmachips fui fazer o cadast...              0\n",
       "284  uma batata ruffles pequena 7 conto? gente pelo...              0\n",
       "285                                 só que com ruffles              0\n",
       "286           ruffles de churrasco eh a melhor que tem              1\n",
       "287  @jeeehcarolinee vamos ficar na torcida pra ele...              1\n",
       "288  @pepeubigboy @katrynnebarross ruffles é uma da...              1\n",
       "289  @_gvmmos sabe o q e um pontinho amarelo no mar...              1\n",
       "290  depois de semanas de procura achei o sabor de ...              1\n",
       "291             meu café da manhã sendo ruffles e coca              1\n",
       "292  batata frita sensações é uma bosta, muito frac...              1\n",
       "293        @fleableh traz ruffles e coca pra mim amor!              0\n",
       "294  um menino acabou de fazer uma compra aqui cmg ...              0\n",
       "295  @bichinhosfb quando @juberpdias compra ruffles...              0\n",
       "296                   essa batata ruffles só vem vento              1\n",
       "297  relembrando com meu cunhado os melhores sabore...              1\n",
       "298  comi ruffles e biss assistindo a última tempor...              0\n",
       "299                        mó vontade de comer ruffles              1"
      ]
     },
     "execution_count": 92,
     "metadata": {},
     "output_type": "execute_result"
    }
   ],
   "source": [
    "treino = train.iloc[:,[0,1]]\n",
    "treino.tail(20)"
   ]
  },
  {
   "cell_type": "code",
   "execution_count": 93,
   "metadata": {},
   "outputs": [],
   "source": [
    "import re \n",
    "\n",
    "\n",
    "def cleanup(text):\n",
    "    pontuacao = '[!-.:?;|\"]'\n",
    "    pattern = re.compile(pontuacao)\n",
    "    text_subbed = re.sub(pattern, '', text)\n",
    "    return text_subbed\n",
    "    \n",
    "def limpaarroba (string):\n",
    "    palavras = []\n",
    "    lista = string.split()\n",
    "    for p in lista:\n",
    "        if p[0] == '@':\n",
    "            palavras.append(p)\n",
    "    for palavra in palavras:\n",
    "        lista.remove(palavra)\n",
    "    clean = ' '.join(lista)\n",
    "    return clean\n",
    "\n",
    "def limpalink (string):\n",
    "    palavras = []\n",
    "    lista = string.split()\n",
    "    for p in lista:\n",
    "        if p[0] == 'h' and p[1] == 't' and p[2] == 't' and p[3] == 'p' and p[4] == 's':\n",
    "            palavras.append(p)\n",
    "    for palavra in palavras:\n",
    "        lista.remove(palavra)\n",
    "    clean = ' '.join(lista)\n",
    "    return clean\n",
    "\n",
    "def limpalinha (string):\n",
    "    palavras = []\n",
    "    lista = string.split()\n",
    "    for p in lista:\n",
    "        clean = p.rstrip(\"\\n\")\n",
    "        palavras.append(clean)\n",
    "    tweet = \" \".join(palavras)\n",
    "    return tweet\n",
    "\n",
    "\n"
   ]
  },
  {
   "cell_type": "code",
   "execution_count": 94,
   "metadata": {},
   "outputs": [
    {
     "name": "stderr",
     "output_type": "stream",
     "text": [
      "C:\\Users\\pedro\\anaconda3\\Nova pasta\\anaconda3\\lib\\site-packages\\pandas\\core\\generic.py:5168: SettingWithCopyWarning: \n",
      "A value is trying to be set on a copy of a slice from a DataFrame.\n",
      "Try using .loc[row_indexer,col_indexer] = value instead\n",
      "\n",
      "See the caveats in the documentation: https://pandas.pydata.org/pandas-docs/stable/user_guide/indexing.html#returning-a-view-versus-a-copy\n",
      "  self[name] = value\n"
     ]
    },
    {
     "data": {
      "text/html": [
       "<div>\n",
       "<style scoped>\n",
       "    .dataframe tbody tr th:only-of-type {\n",
       "        vertical-align: middle;\n",
       "    }\n",
       "\n",
       "    .dataframe tbody tr th {\n",
       "        vertical-align: top;\n",
       "    }\n",
       "\n",
       "    .dataframe thead th {\n",
       "        text-align: right;\n",
       "    }\n",
       "</style>\n",
       "<table border=\"1\" class=\"dataframe\">\n",
       "  <thead>\n",
       "    <tr style=\"text-align: right;\">\n",
       "      <th></th>\n",
       "      <th>Treinamento</th>\n",
       "      <th>Classificação</th>\n",
       "    </tr>\n",
       "  </thead>\n",
       "  <tbody>\n",
       "    <tr>\n",
       "      <th>0</th>\n",
       "      <td>amiga sinto muito mas sou doida por ruffles😭😭😭😭😭</td>\n",
       "      <td>1</td>\n",
       "    </tr>\n",
       "    <tr>\n",
       "      <th>1</th>\n",
       "      <td>amg eu te perdoo dessa vez pq eu amo ruffles d...</td>\n",
       "      <td>1</td>\n",
       "    </tr>\n",
       "    <tr>\n",
       "      <th>2</th>\n",
       "      <td>mas ruffles e coca tambem é veg amiga veja bem</td>\n",
       "      <td>1</td>\n",
       "    </tr>\n",
       "    <tr>\n",
       "      <th>3</th>\n",
       "      <td>n sei o q dá na cabeça da pessoa em trocar pri...</td>\n",
       "      <td>1</td>\n",
       "    </tr>\n",
       "    <tr>\n",
       "      <th>4</th>\n",
       "      <td>ruffles cebola e salsa e chocolate</td>\n",
       "      <td>0</td>\n",
       "    </tr>\n",
       "    <tr>\n",
       "      <th>5</th>\n",
       "      <td>só terminar essa ruffles c coca cola e tô enco...</td>\n",
       "      <td>0</td>\n",
       "    </tr>\n",
       "    <tr>\n",
       "      <th>6</th>\n",
       "      <td>cerveja com ruffles ou doritos é perfeito demais</td>\n",
       "      <td>1</td>\n",
       "    </tr>\n",
       "    <tr>\n",
       "      <th>7</th>\n",
       "      <td>só queria uma ruffles de salsa e cebola 😔😔</td>\n",
       "      <td>1</td>\n",
       "    </tr>\n",
       "    <tr>\n",
       "      <th>8</th>\n",
       "      <td>vontade de comer um ruffles de cebola ou de ch...</td>\n",
       "      <td>1</td>\n",
       "    </tr>\n",
       "    <tr>\n",
       "      <th>9</th>\n",
       "      <td>tô aqui comendo uma ruffles e do nada lembrei ...</td>\n",
       "      <td>0</td>\n",
       "    </tr>\n",
       "    <tr>\n",
       "      <th>10</th>\n",
       "      <td>aff foi só luisa ter ganhado o sorteio da ruff...</td>\n",
       "      <td>0</td>\n",
       "    </tr>\n",
       "    <tr>\n",
       "      <th>11</th>\n",
       "      <td>um total de zero defeitos né ariel 💛🥰👉👈</td>\n",
       "      <td>0</td>\n",
       "    </tr>\n",
       "    <tr>\n",
       "      <th>12</th>\n",
       "      <td>teste de caráter lays sour cream ou ruffles or...</td>\n",
       "      <td>0</td>\n",
       "    </tr>\n",
       "    <tr>\n",
       "      <th>13</th>\n",
       "      <td>geral marcando a ruffles e eu nem pensei nisso...</td>\n",
       "      <td>0</td>\n",
       "    </tr>\n",
       "    <tr>\n",
       "      <th>14</th>\n",
       "      <td>ai gente eu queria muito um ruffles e uma coqu...</td>\n",
       "      <td>1</td>\n",
       "    </tr>\n",
       "    <tr>\n",
       "      <th>15</th>\n",
       "      <td>só qria a ruffles de ketchup de volta aiai</td>\n",
       "      <td>1</td>\n",
       "    </tr>\n",
       "    <tr>\n",
       "      <th>16</th>\n",
       "      <td>vou comer ruffles qiem quer</td>\n",
       "      <td>0</td>\n",
       "    </tr>\n",
       "    <tr>\n",
       "      <th>17</th>\n",
       "      <td>odiava ruffles de cebola hoje acho a melhor co...</td>\n",
       "      <td>1</td>\n",
       "    </tr>\n",
       "    <tr>\n",
       "      <th>18</th>\n",
       "      <td>não existe nenhum salgadinho melhor que ruffles</td>\n",
       "      <td>1</td>\n",
       "    </tr>\n",
       "    <tr>\n",
       "      <th>19</th>\n",
       "      <td>eu ia com 10 reais comprava batata ruffles cho...</td>\n",
       "      <td>0</td>\n",
       "    </tr>\n",
       "  </tbody>\n",
       "</table>\n",
       "</div>"
      ],
      "text/plain": [
       "                                          Treinamento  Classificação\n",
       "0    amiga sinto muito mas sou doida por ruffles😭😭😭😭😭              1\n",
       "1   amg eu te perdoo dessa vez pq eu amo ruffles d...              1\n",
       "2      mas ruffles e coca tambem é veg amiga veja bem              1\n",
       "3   n sei o q dá na cabeça da pessoa em trocar pri...              1\n",
       "4                  ruffles cebola e salsa e chocolate              0\n",
       "5   só terminar essa ruffles c coca cola e tô enco...              0\n",
       "6    cerveja com ruffles ou doritos é perfeito demais              1\n",
       "7          só queria uma ruffles de salsa e cebola 😔😔              1\n",
       "8   vontade de comer um ruffles de cebola ou de ch...              1\n",
       "9   tô aqui comendo uma ruffles e do nada lembrei ...              0\n",
       "10  aff foi só luisa ter ganhado o sorteio da ruff...              0\n",
       "11            um total de zero defeitos né ariel 💛🥰👉👈              0\n",
       "12  teste de caráter lays sour cream ou ruffles or...              0\n",
       "13  geral marcando a ruffles e eu nem pensei nisso...              0\n",
       "14  ai gente eu queria muito um ruffles e uma coqu...              1\n",
       "15         só qria a ruffles de ketchup de volta aiai              1\n",
       "16                        vou comer ruffles qiem quer              0\n",
       "17  odiava ruffles de cebola hoje acho a melhor co...              1\n",
       "18    não existe nenhum salgadinho melhor que ruffles              1\n",
       "19  eu ia com 10 reais comprava batata ruffles cho...              0"
      ]
     },
     "execution_count": 94,
     "metadata": {},
     "output_type": "execute_result"
    }
   ],
   "source": [
    "treino.Treinamento = treino.Treinamento.apply(cleanup)\n",
    "treino.Treinamento = treino.Treinamento.apply(limpaarroba)\n",
    "treino.Treinamento = treino.Treinamento.apply(limpalink)\n",
    "treino.Treinamento = treino.Treinamento.apply(limpalinha)\n",
    "\n",
    "treino.head(20)"
   ]
  },
  {
   "cell_type": "code",
   "execution_count": 95,
   "metadata": {},
   "outputs": [],
   "source": [
    "irrelevante = treino.loc[treino['Classificação']==0,['Treinamento']]\n",
    "relevante = treino.loc[treino['Classificação']==1,['Treinamento']]"
   ]
  },
  {
   "cell_type": "code",
   "execution_count": 96,
   "metadata": {},
   "outputs": [
    {
     "data": {
      "text/plain": [
       "ruffles    0.063965\n",
       "de         0.045898\n",
       "e          0.036865\n",
       "que        0.020996\n",
       "eu         0.018066\n",
       "             ...   \n",
       "chama      0.000244\n",
       "tazos      0.000244\n",
       "colapso    0.000244\n",
       "pesado     0.000244\n",
       "max        0.000244\n",
       "Length: 1335, dtype: float64"
      ]
     },
     "execution_count": 96,
     "metadata": {},
     "output_type": "execute_result"
    }
   ],
   "source": [
    "lista_irrelevante = []\n",
    "\n",
    "for x in irrelevante['Treinamento']:\n",
    "    palavras = x.split()\n",
    "    for p in palavras:\n",
    "        lista_irrelevante.append(p)\n",
    "\n",
    "lista_relevante = []\n",
    "\n",
    "for x in relevante['Treinamento']:\n",
    "    palavras1 = x.split()\n",
    "    for p in palavras1:\n",
    "        lista_relevante.append(p)\n",
    "\n",
    "lista_total = []\n",
    "\n",
    "for x in treino['Treinamento']:\n",
    "    todas = x.split()\n",
    "    for p in todas:\n",
    "        lista_total.append(p)\n",
    "\n",
    "\n",
    "\n",
    "serie_total = pd.Series(lista_total)\n",
    "tabela_total = serie_total.value_counts(True)\n",
    "tabela_total\n",
    "\n"
   ]
  },
  {
   "cell_type": "code",
   "execution_count": 97,
   "metadata": {},
   "outputs": [
    {
     "data": {
      "text/plain": [
       "ruffles    0.060262\n",
       "de         0.040175\n",
       "e          0.037991\n",
       "que        0.018777\n",
       "o          0.017904\n",
       "             ...   \n",
       "─          0.000437\n",
       "estaria    0.000437\n",
       "daquele    0.000437\n",
       "modelo     0.000437\n",
       "max        0.000437\n",
       "Length: 937, dtype: float64"
      ]
     },
     "execution_count": 97,
     "metadata": {},
     "output_type": "execute_result"
    }
   ],
   "source": [
    "serie_irrelevante = pd.Series(lista_irrelevante)\n",
    "tabela_irrelevante = serie_irrelevante.value_counts(True)\n",
    "tabela_irrelevante"
   ]
  },
  {
   "cell_type": "code",
   "execution_count": 98,
   "metadata": {},
   "outputs": [
    {
     "data": {
      "text/plain": [
       "ruffles       0.068660\n",
       "de            0.053156\n",
       "e             0.035437\n",
       "que           0.023810\n",
       "eu            0.018826\n",
       "                ...   \n",
       "salsa🌿        0.000554\n",
       "canudinhos    0.000554\n",
       "afazenda13    0.000554\n",
       "lá            0.000554\n",
       "radioativa    0.000554\n",
       "Length: 662, dtype: float64"
      ]
     },
     "execution_count": 98,
     "metadata": {},
     "output_type": "execute_result"
    }
   ],
   "source": [
    "serie_relevante = pd.Series(lista_relevante)\n",
    "tabela_relevante = serie_relevante.value_counts(True)\n",
    "tabela_relevante"
   ]
  },
  {
   "cell_type": "code",
   "execution_count": 99,
   "metadata": {},
   "outputs": [
    {
     "name": "stdout",
     "output_type": "stream",
     "text": [
      "0.55908203125\n",
      "0.44091796875\n",
      "1.0\n"
     ]
    }
   ],
   "source": [
    "prob_irrelevante = len(lista_irrelevante)/len(lista_total)\n",
    "\n",
    "prob_relevante = len(lista_relevante)/len(lista_total)\n",
    "\n",
    "print(prob_irrelevante)\n",
    "print(prob_relevante)\n",
    "print(prob_relevante + prob_irrelevante)"
   ]
  },
  {
   "cell_type": "code",
   "execution_count": 100,
   "metadata": {},
   "outputs": [
    {
     "data": {
      "text/plain": [
       "ruffles    0.060262\n",
       "de         0.040175\n",
       "e          0.037991\n",
       "que        0.018777\n",
       "o          0.017904\n",
       "             ...   \n",
       "─          0.000437\n",
       "estaria    0.000437\n",
       "daquele    0.000437\n",
       "modelo     0.000437\n",
       "max        0.000437\n",
       "Length: 937, dtype: float64"
      ]
     },
     "execution_count": 100,
     "metadata": {},
     "output_type": "execute_result"
    }
   ],
   "source": [
    "list_tabelas = [tabela_irrelevante, tabela_relevante]\n",
    "list_listas= [lista_irrelevante, lista_relevante]\n",
    "\n",
    "tabela_irrelevante"
   ]
  },
  {
   "cell_type": "code",
   "execution_count": 101,
   "metadata": {},
   "outputs": [
    {
     "name": "stdout",
     "output_type": "stream",
     "text": [
      "relevante\n"
     ]
    }
   ],
   "source": [
    "def classifica(string, tabelas, listas):\n",
    "    f = 1\n",
    "    i = 0\n",
    "    soma = 0\n",
    "    y = 0\n",
    "    lista_resultado = []\n",
    "    vezes = 1\n",
    "    for tabela in tabelas:\n",
    "        soma = 0\n",
    "        y += 1\n",
    "        vezes = 1\n",
    "        for lista in listas:\n",
    "            for palavra in string.split():\n",
    "                if soma >= len(string.split()) :\n",
    "                    break\n",
    "                if palavra in tabela:\n",
    "                    f = (1 + tabela[palavra])\n",
    "                    soma += 1\n",
    "                else:\n",
    "                    f = 1\n",
    "                    soma += 1\n",
    "                i += 1\n",
    "                vezes *= f\n",
    "        lista_resultado.append(vezes)\n",
    "    if lista_resultado.index(max(lista_resultado)) == 0:\n",
    "        return 'irrelevante'\n",
    "    elif lista_resultado.index(max(lista_resultado)) == 1:\n",
    "        return 'relevante'\n",
    "\n",
    "\n",
    "print(classifica('gostei muito da ruffles de churrasco', list_tabelas, list_listas))"
   ]
  },
  {
   "cell_type": "code",
   "execution_count": 102,
   "metadata": {},
   "outputs": [
    {
     "name": "stderr",
     "output_type": "stream",
     "text": [
      "<ipython-input-102-42bffd235c6a>:6: SettingWithCopyWarning: \n",
      "A value is trying to be set on a copy of a slice from a DataFrame.\n",
      "Try using .loc[row_indexer,col_indexer] = value instead\n",
      "\n",
      "See the caveats in the documentation: https://pandas.pydata.org/pandas-docs/stable/user_guide/indexing.html#returning-a-view-versus-a-copy\n",
      "  treino['Aplicado'] = classificado\n"
     ]
    },
    {
     "data": {
      "text/html": [
       "<div>\n",
       "<style scoped>\n",
       "    .dataframe tbody tr th:only-of-type {\n",
       "        vertical-align: middle;\n",
       "    }\n",
       "\n",
       "    .dataframe tbody tr th {\n",
       "        vertical-align: top;\n",
       "    }\n",
       "\n",
       "    .dataframe thead th {\n",
       "        text-align: right;\n",
       "    }\n",
       "</style>\n",
       "<table border=\"1\" class=\"dataframe\">\n",
       "  <thead>\n",
       "    <tr style=\"text-align: right;\">\n",
       "      <th></th>\n",
       "      <th>Treinamento</th>\n",
       "      <th>Classificação</th>\n",
       "      <th>Aplicado</th>\n",
       "    </tr>\n",
       "  </thead>\n",
       "  <tbody>\n",
       "    <tr>\n",
       "      <th>0</th>\n",
       "      <td>amiga sinto muito mas sou doida por ruffles😭😭😭😭😭</td>\n",
       "      <td>1</td>\n",
       "      <td>relevante</td>\n",
       "    </tr>\n",
       "    <tr>\n",
       "      <th>1</th>\n",
       "      <td>amg eu te perdoo dessa vez pq eu amo ruffles d...</td>\n",
       "      <td>1</td>\n",
       "      <td>relevante</td>\n",
       "    </tr>\n",
       "    <tr>\n",
       "      <th>2</th>\n",
       "      <td>mas ruffles e coca tambem é veg amiga veja bem</td>\n",
       "      <td>1</td>\n",
       "      <td>relevante</td>\n",
       "    </tr>\n",
       "    <tr>\n",
       "      <th>3</th>\n",
       "      <td>n sei o q dá na cabeça da pessoa em trocar pri...</td>\n",
       "      <td>1</td>\n",
       "      <td>relevante</td>\n",
       "    </tr>\n",
       "    <tr>\n",
       "      <th>4</th>\n",
       "      <td>ruffles cebola e salsa e chocolate</td>\n",
       "      <td>0</td>\n",
       "      <td>relevante</td>\n",
       "    </tr>\n",
       "    <tr>\n",
       "      <th>5</th>\n",
       "      <td>só terminar essa ruffles c coca cola e tô enco...</td>\n",
       "      <td>0</td>\n",
       "      <td>relevante</td>\n",
       "    </tr>\n",
       "    <tr>\n",
       "      <th>6</th>\n",
       "      <td>cerveja com ruffles ou doritos é perfeito demais</td>\n",
       "      <td>1</td>\n",
       "      <td>relevante</td>\n",
       "    </tr>\n",
       "    <tr>\n",
       "      <th>7</th>\n",
       "      <td>só queria uma ruffles de salsa e cebola 😔😔</td>\n",
       "      <td>1</td>\n",
       "      <td>relevante</td>\n",
       "    </tr>\n",
       "    <tr>\n",
       "      <th>8</th>\n",
       "      <td>vontade de comer um ruffles de cebola ou de ch...</td>\n",
       "      <td>1</td>\n",
       "      <td>relevante</td>\n",
       "    </tr>\n",
       "    <tr>\n",
       "      <th>9</th>\n",
       "      <td>tô aqui comendo uma ruffles e do nada lembrei ...</td>\n",
       "      <td>0</td>\n",
       "      <td>relevante</td>\n",
       "    </tr>\n",
       "  </tbody>\n",
       "</table>\n",
       "</div>"
      ],
      "text/plain": [
       "                                         Treinamento  Classificação   Aplicado\n",
       "0   amiga sinto muito mas sou doida por ruffles😭😭😭😭😭              1  relevante\n",
       "1  amg eu te perdoo dessa vez pq eu amo ruffles d...              1  relevante\n",
       "2     mas ruffles e coca tambem é veg amiga veja bem              1  relevante\n",
       "3  n sei o q dá na cabeça da pessoa em trocar pri...              1  relevante\n",
       "4                 ruffles cebola e salsa e chocolate              0  relevante\n",
       "5  só terminar essa ruffles c coca cola e tô enco...              0  relevante\n",
       "6   cerveja com ruffles ou doritos é perfeito demais              1  relevante\n",
       "7         só queria uma ruffles de salsa e cebola 😔😔              1  relevante\n",
       "8  vontade de comer um ruffles de cebola ou de ch...              1  relevante\n",
       "9  tô aqui comendo uma ruffles e do nada lembrei ...              0  relevante"
      ]
     },
     "execution_count": 102,
     "metadata": {},
     "output_type": "execute_result"
    }
   ],
   "source": [
    "classificado = []\n",
    "for a  in treino.Treinamento:\n",
    "    função = classificador(a,list_tabelas, list_listas)\n",
    "    classificado.append(função)\n",
    "\n",
    "treino['Aplicado'] = classificado\n",
    "\n",
    "treino.head(10)"
   ]
  },
  {
   "cell_type": "code",
   "execution_count": 103,
   "metadata": {},
   "outputs": [
    {
     "data": {
      "text/html": [
       "<div>\n",
       "<style scoped>\n",
       "    .dataframe tbody tr th:only-of-type {\n",
       "        vertical-align: middle;\n",
       "    }\n",
       "\n",
       "    .dataframe tbody tr th {\n",
       "        vertical-align: top;\n",
       "    }\n",
       "\n",
       "    .dataframe thead th {\n",
       "        text-align: right;\n",
       "    }\n",
       "</style>\n",
       "<table border=\"1\" class=\"dataframe\">\n",
       "  <thead>\n",
       "    <tr style=\"text-align: right;\">\n",
       "      <th></th>\n",
       "      <th>Teste</th>\n",
       "      <th>Classificação</th>\n",
       "      <th>Aplicado</th>\n",
       "    </tr>\n",
       "  </thead>\n",
       "  <tbody>\n",
       "    <tr>\n",
       "      <th>0</th>\n",
       "      <td>queria deixar minha raiva aqui com a fraude ch...</td>\n",
       "      <td>1.0</td>\n",
       "      <td>relevante</td>\n",
       "    </tr>\n",
       "    <tr>\n",
       "      <th>1</th>\n",
       "      <td>meu namorado deveria ver isso e mandar uma ruf...</td>\n",
       "      <td>1.0</td>\n",
       "      <td>irrelevante</td>\n",
       "    </tr>\n",
       "    <tr>\n",
       "      <th>2</th>\n",
       "      <td>o guaraná até vai agora o ruffles cara</td>\n",
       "      <td>1.0</td>\n",
       "      <td>irrelevante</td>\n",
       "    </tr>\n",
       "    <tr>\n",
       "      <th>3</th>\n",
       "      <td>eu não gosto de ruffles pra mim tem gosto estr...</td>\n",
       "      <td>1.0</td>\n",
       "      <td>relevante</td>\n",
       "    </tr>\n",
       "    <tr>\n",
       "      <th>4</th>\n",
       "      <td>comer uma ruffles deu vontade</td>\n",
       "      <td>1.0</td>\n",
       "      <td>relevante</td>\n",
       "    </tr>\n",
       "    <tr>\n",
       "      <th>5</th>\n",
       "      <td>é aceitável jantar ruffles com coca cola</td>\n",
       "      <td>1.0</td>\n",
       "      <td>relevante</td>\n",
       "    </tr>\n",
       "    <tr>\n",
       "      <th>6</th>\n",
       "      <td>mkjkkkk manda um aqui pra casa pfv 🕵🏽‍♂️ eu di...</td>\n",
       "      <td>0.0</td>\n",
       "      <td>irrelevante</td>\n",
       "    </tr>\n",
       "    <tr>\n",
       "      <th>7</th>\n",
       "      <td>super apaixonei🧀🥓</td>\n",
       "      <td>0.0</td>\n",
       "      <td>irrelevante</td>\n",
       "    </tr>\n",
       "    <tr>\n",
       "      <th>8</th>\n",
       "      <td>quero tanto uma pringles ou um ruffles de chur...</td>\n",
       "      <td>1.0</td>\n",
       "      <td>relevante</td>\n",
       "    </tr>\n",
       "    <tr>\n",
       "      <th>9</th>\n",
       "      <td>doritos e ruffles eu chamo de ruffles mas todo...</td>\n",
       "      <td>0.0</td>\n",
       "      <td>relevante</td>\n",
       "    </tr>\n",
       "  </tbody>\n",
       "</table>\n",
       "</div>"
      ],
      "text/plain": [
       "                                               Teste  Classificação  \\\n",
       "0  queria deixar minha raiva aqui com a fraude ch...            1.0   \n",
       "1  meu namorado deveria ver isso e mandar uma ruf...            1.0   \n",
       "2             o guaraná até vai agora o ruffles cara            1.0   \n",
       "3  eu não gosto de ruffles pra mim tem gosto estr...            1.0   \n",
       "4                      comer uma ruffles deu vontade            1.0   \n",
       "5           é aceitável jantar ruffles com coca cola            1.0   \n",
       "6  mkjkkkk manda um aqui pra casa pfv 🕵🏽‍♂️ eu di...            0.0   \n",
       "7                                  super apaixonei🧀🥓            0.0   \n",
       "8  quero tanto uma pringles ou um ruffles de chur...            1.0   \n",
       "9  doritos e ruffles eu chamo de ruffles mas todo...            0.0   \n",
       "\n",
       "      Aplicado  \n",
       "0    relevante  \n",
       "1  irrelevante  \n",
       "2  irrelevante  \n",
       "3    relevante  \n",
       "4    relevante  \n",
       "5    relevante  \n",
       "6  irrelevante  \n",
       "7  irrelevante  \n",
       "8    relevante  \n",
       "9    relevante  "
      ]
     },
     "execution_count": 103,
     "metadata": {},
     "output_type": "execute_result"
    }
   ],
   "source": [
    "test.head()\n",
    "teste = test.iloc[:,[0,1]]\n",
    "teste['Teste']= teste['Teste'].apply(cleanup)\n",
    "teste['Teste']= teste['Teste'].apply(limpaarroba)\n",
    "teste['Teste']= teste['Teste'].apply(limpalink)\n",
    "teste['Teste']= teste['Teste'].apply(limpalinha)\n",
    "\n",
    "classificado_teste = []\n",
    "for x in teste.Teste:\n",
    "    função = classificador(x,list_tabelas, list_listas)\n",
    "    classificado_teste.append(função)\n",
    "\n",
    "teste['Aplicado'] = classificado_teste\n",
    "\n",
    "teste.head(10)"
   ]
  },
  {
   "cell_type": "markdown",
   "metadata": {},
   "source": [
    "___\n",
    "### Verificando a performance do Classificador\n",
    "\n",
    "Agora você deve testar o seu classificador com a base de Testes."
   ]
  },
  {
   "cell_type": "code",
   "execution_count": 104,
   "metadata": {},
   "outputs": [
    {
     "name": "stdout",
     "output_type": "stream",
     "text": [
      " acertou em 56.49999999999999% das vezes\n"
     ]
    }
   ],
   "source": [
    "def mudapnumero(nivel):\n",
    "    if nivel == 'irrelevante':\n",
    "        return 0\n",
    "    else:\n",
    "        return 1\n",
    "\n",
    "\n",
    "valoresteste = []\n",
    "for x in teste['Classificação']:\n",
    "    valoresteste.append(x)\n",
    "\n",
    "valorescalc = []\n",
    "for y in teste.Aplicado:\n",
    "    valor = mudapnumero(y)\n",
    "    valorescalc.append(valor)\n",
    "\n",
    "acertos = 0\n",
    "total = 0\n",
    "i=0\n",
    "while i <= len(valorescalc)-1:\n",
    "    if valoresteste[i] == valorescalc[i]:\n",
    "        acertos+=1\n",
    "    total+=1\n",
    "    i+=1\n",
    "\n",
    "qualidade = (acertos/total)*100\n",
    "\n",
    "print(\" acertou em {}% das vezes\".format(qualidade))"
   ]
  },
  {
   "cell_type": "code",
   "execution_count": 110,
   "metadata": {},
   "outputs": [
    {
     "name": "stdout",
     "output_type": "stream",
     "text": [
      "Falsos positivos: 39.5%\n",
      "Verdadeiros positivos: 48.0%\n"
     ]
    }
   ],
   "source": [
    "fpositivos = 0\n",
    "vpositivos = 0\n",
    "i = 0\n",
    "total = 0\n",
    "\n",
    "while i < len(valorescalc):\n",
    "    if valorescalc[i] == 1:\n",
    "        if valoresteste[i]: \n",
    "            vpositivos +=1\n",
    "        else: \n",
    "            fpositivos += 1\n",
    "    i+=1\n",
    "    total+=1\n",
    "\n",
    "fpositivos *= 100\n",
    "vpositivos *= 100\n",
    "\n",
    "print('Falsos positivos: {}%'.format(fpositivos/total))\n",
    "print('Verdadeiros positivos: {}%'.format(vpositivos/total))"
   ]
  },
  {
   "cell_type": "code",
   "execution_count": 115,
   "metadata": {},
   "outputs": [
    {
     "name": "stdout",
     "output_type": "stream",
     "text": [
      "Falsos negativos: 3.5%\n",
      "Verdadeiros negativos: 9.0%\n"
     ]
    }
   ],
   "source": [
    "fnegativo = 0\n",
    "vnegativo = 0\n",
    "i = 0\n",
    "total = 0\n",
    "\n",
    "while i < len(valorescalc):\n",
    "    if valorescalc[i] == 0 :\n",
    "        if valoresteste[i] == 0:\n",
    "            vnegativo +=1\n",
    "        else: \n",
    "            fnegativo += 1\n",
    "    i+=1\n",
    "    total+=1\n",
    "\n",
    "\n",
    "fnegativo *= 100\n",
    "vnegativo *= 100\n",
    "print('Falsos negativos: {}%'.format(fnegativo/total))\n",
    "print('Verdadeiros negativos: {}%'.format(vnegativo/total))\n"
   ]
  },
  {
   "cell_type": "code",
   "execution_count": 114,
   "metadata": {},
   "outputs": [
    {
     "name": "stdout",
     "output_type": "stream",
     "text": [
      "100.0\n"
     ]
    }
   ],
   "source": [
    "print((vnegativo+fnegativo+fpositivos+vpositivos)/total)"
   ]
  },
  {
   "cell_type": "markdown",
   "metadata": {},
   "source": [
    "___\n",
    "### Concluindo"
   ]
  },
  {
   "cell_type": "code",
   "execution_count": 113,
   "metadata": {},
   "outputs": [
    {
     "data": {
      "image/png": "[encoded data removed]",
      "text/plain": [
       "<Figure size 576x396 with 1 Axes>"
      ]
     },
     "metadata": {},
     "output_type": "display_data"
    }
   ],
   "source": [
    "import matplotlib.pyplot as plt\n",
    "\n",
    "labels = 'Falsos negativos', 'Verdadeiros negativos', 'Falsos positivos', 'Verdadeiros positivos'\n",
    "sizes = [fnegativo, vnegativo, fpositivos, vpositivos]\n",
    "\n",
    "fig1, ax1 = plt.subplots()\n",
    "ax1.pie (sizes, labels=labels, autopct='%1.1f%%', shadow = True)\n",
    "\n",
    "plt.style.use(\"seaborn\")\n",
    "plt.legend(labels, loc=3)\n",
    "ax1.axis('equal')\n",
    "plt.show()"
   ]
  },
  {
   "cell_type": "markdown",
   "metadata": {},
   "source": [
    "    Concluimos que o classificador não foi ruim, com uma acurácia de 56%. O número de falsos positivos e falsos negativos   foi menor do que o de verdadeiros positivos e verdadeiros negativos. O motivo da acurácia não ter sido maior se resume ao fato do método utilizado partir do pressuposto de que as palavras não possuem conexões que resulta nas suas probabilidades serem calculadas individualmente, interferindo nessa acurácia. \n",
    "    Além disso, o método não diferenciava mensagens contendo ironia ou frases sem sentido, interferindo no resultado final."
   ]
  },
  {
   "cell_type": "code",
   "execution_count": null,
   "metadata": {},
   "outputs": [],
   "source": []
  },
  {
   "cell_type": "markdown",
   "metadata": {},
   "source": [
    "___\n",
    "### Qualidade do Classificador a partir de novas separações dos tweets entre Treinamento e Teste\n",
    "\n",
    "Caso for fazer esse item do Projeto"
   ]
  },
  {
   "cell_type": "code",
   "execution_count": null,
   "metadata": {},
   "outputs": [],
   "source": []
  },
  {
   "cell_type": "code",
   "execution_count": null,
   "metadata": {},
   "outputs": [],
   "source": []
  },
  {
   "cell_type": "code",
   "execution_count": null,
   "metadata": {},
   "outputs": [],
   "source": []
  },
  {
   "cell_type": "markdown",
   "metadata": {},
   "source": [
    "___\n",
    "## Aperfeiçoamento:\n",
    "\n",
    "Trabalhos que conseguirem pelo menos conceito B vão evoluir em conceito dependendo da quantidade de itens avançados:\n",
    "\n",
    "* IMPLEMENTOU outras limpezas e transformações que não afetem a qualidade da informação contida nos tweets. Ex: stemming, lemmatization, stopwords\n",
    "* CORRIGIU separação de espaços entre palavras e emojis ou entre emojis e emojis\n",
    "* CRIOU categorias intermediárias de relevância baseadas na probabilidade: ex.: muito relevante, relevante, neutro, irrelevante, muito irrelevante. Pelo menos quatro categorias, com adição de mais tweets na base, conforme enunciado. (OBRIGATÓRIO PARA TRIOS, sem contar como item avançado)\n",
    "* EXPLICOU porquê não pode usar o próprio classificador para gerar mais amostras de treinamento\n",
    "* PROPÔS diferentes cenários para Naïve Bayes fora do contexto do projeto\n",
    "* SUGERIU e EXPLICOU melhorias reais com indicações concretas de como implementar (indicar como fazer e indicar material de pesquisa)\n",
    "* FEZ o item 6. Qualidade do Classificador a partir de novas separações dos tweets entre Treinamento e Teste descrito no enunciado do projeto (OBRIGATÓRIO para conceitos A ou A+)"
   ]
  },
  {
   "cell_type": "markdown",
   "metadata": {},
   "source": [
    "___\n",
    "## Referências"
   ]
  },
  {
   "cell_type": "markdown",
   "metadata": {},
   "source": [
    "[Naive Bayes and Text Classification](https://arxiv.org/pdf/1410.5329.pdf)  **Mais completo**\n",
    "\n",
    "[A practical explanation of a Naive Bayes Classifier](https://monkeylearn.com/blog/practical-explanation-naive-bayes-classifier/) **Mais simples**"
   ]
  },
  {
   "cell_type": "code",
   "execution_count": null,
   "metadata": {},
   "outputs": [],
   "source": []
  }
 ],
 "metadata": {
  "interpreter": {
   "hash": "7b557367583f31887e46e48e747d5e39eb876db373b31fb81ffdad585737f1eb"
  },
  "kernelspec": {
   "display_name": "Python 3",
   "language": "python",
   "name": "python3"
  },
  "language_info": {
   "codemirror_mode": {
    "name": "ipython",
    "version": 3
   },
   "file_extension": ".py",
   "mimetype": "text/x-python",
   "name": "python",
   "nbconvert_exporter": "python",
   "pygments_lexer": "ipython3",
   "version": "3.8.5"
  }
 },
 "nbformat": 4,
 "nbformat_minor": 4
}
